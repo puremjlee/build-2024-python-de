{
 "metadata": {
  "kernelspec": {
   "display_name": "snowpark_pandas",
   "language": "python",
   "name": "python3"
  },
  "language_info": {
   "codemirror_mode": {
    "name": "ipython",
    "version": 3
   },
   "file_extension": ".py",
   "mimetype": "text/x-python",
   "name": "python",
   "nbconvert_exporter": "python",
   "pygments_lexer": "ipython3",
   "version": "3.9.19"
  }
 },
 "nbformat_minor": 2,
 "nbformat": 4,
 "cells": [
  {
   "cell_type": "code",
   "execution_count": null,
   "id": "4039104e-54fc-411e-972e-0f5a2d884595",
   "metadata": {
    "codeCollapsed": false,
    "collapsed": false,
    "language": "python",
    "name": "cell2",
    "resultHeight": 0
   },
   "outputs": [],
   "source": "from snowflake.snowpark.context import get_active_session\nfrom snowflake.snowpark.functions import sum, col, mean, count\n\nsession = get_active_session()\nsession.use_schema('snowflake.account_usage')"
  },
  {
   "cell_type": "code",
   "execution_count": null,
   "id": "2a091f1b-505f-4b61-9088-e7fd08e16f83",
   "metadata": {
    "codeCollapsed": false,
    "collapsed": false,
    "language": "python",
    "name": "cell6",
    "resultHeight": 0
   },
   "outputs": [],
   "source": "customer = session.table('snowflake_sample_data.tpch_sf1.customer')\norders = session.table('snowflake_sample_data.tpch_sf1.orders')"
  },
  {
   "cell_type": "code",
   "execution_count": null,
   "id": "be5d37e2-e990-4e71-b762-41a64845955f",
   "metadata": {
    "codeCollapsed": false,
    "collapsed": false,
    "language": "python",
    "name": "cell8",
    "resultHeight": 0
   },
   "outputs": [],
   "source": "df = customer.join(orders, customer.c_custkey == orders.o_custkey)"
  },
  {
   "cell_type": "code",
   "id": "35f38983-acb6-41e1-94ca-3b310e21cff3",
   "metadata": {
    "language": "python",
    "name": "cell3",
    "resultHeight": 439
   },
   "outputs": [],
   "source": "# 집계 함수 적용\ncol_agg = [\n    count(\"O_ORDERKEY\").alias(\"order_cnt\"),\n    sum(\"O_TOTALPRICE\").alias(\"total_price\"),\n    mean(\"O_TOTALPRICE\").alias(\"avg_price\")\n]\n\n# groupby 및 집계 수행\nresult_df = df.group_by(col(\"C_CUSTKEY\")).agg(*col_agg)\nresult_df",
   "execution_count": null
  },
  {
   "cell_type": "code",
   "id": "be177672-078e-4822-8079-4732ccb9ee79",
   "metadata": {
    "language": "python",
    "name": "cell1",
    "resultHeight": 239
   },
   "outputs": [],
   "source": "result_df.write.mode(\"overwrite\").save_as_table(\"build_python_de.data.stats_customer\")",
   "execution_count": null
  }
 ]
}