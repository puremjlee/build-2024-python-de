{
 "metadata": {
  "kernelspec": {
   "display_name": "snowpark_pandas",
   "language": "python",
   "name": "python3"
  },
  "language_info": {
   "codemirror_mode": {
    "name": "ipython",
    "version": 3
   },
   "file_extension": ".py",
   "mimetype": "text/x-python",
   "name": "python",
   "nbconvert_exporter": "python",
   "pygments_lexer": "ipython3",
   "version": "3.9.19"
  }
 },
 "nbformat_minor": 2,
 "nbformat": 4,
 "cells": [
  {
   "cell_type": "code",
   "execution_count": null,
   "id": "4039104e-54fc-411e-972e-0f5a2d884595",
   "metadata": {
    "codeCollapsed": false,
    "collapsed": false,
    "language": "python",
    "name": "cell2",
    "resultHeight": 0
   },
   "outputs": [],
   "source": "from snowflake.snowpark.context import get_active_session\nfrom snowflake.snowpark.functions import sum, col, mean, count\n\nsession = get_active_session()\nsession.use_schema('snowflake.account_usage')"
  },
  {
   "cell_type": "code",
   "execution_count": null,
   "id": "2a091f1b-505f-4b61-9088-e7fd08e16f83",
   "metadata": {
    "codeCollapsed": false,
    "collapsed": false,
    "language": "python",
    "name": "cell6",
    "resultHeight": 439
   },
   "outputs": [],
   "source": "df = session.table('build_python_de.data.stats_customer')\ndf"
  },
  {
   "cell_type": "code",
   "execution_count": null,
   "id": "be5d37e2-e990-4e71-b762-41a64845955f",
   "metadata": {
    "codeCollapsed": false,
    "collapsed": false,
    "language": "python",
    "name": "cell8",
    "resultHeight": 112
   },
   "outputs": [],
   "source": "result_df = df.select(sum('order_cnt').alias('tot_order_cnt'), \n          mean('order_cnt').alias('avg_order_cnt'),\n         sum('total_price').alias('total_sales'),\n         mean('avg_price').alias('avg_sales'))\nresult_df"
  },
  {
   "cell_type": "code",
   "id": "be177672-078e-4822-8079-4732ccb9ee79",
   "metadata": {
    "language": "python",
    "name": "cell1",
    "resultHeight": 0
   },
   "outputs": [],
   "source": "result_df.write.mode(\"overwrite\").save_as_table(\"build_python_de.data.stats_sales\")",
   "execution_count": null
  }
 ]
}