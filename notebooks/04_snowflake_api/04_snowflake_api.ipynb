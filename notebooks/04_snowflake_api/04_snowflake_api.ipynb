{
 "metadata": {
  "kernelspec": {
   "display_name": "snowpark_pandas",
   "language": "python",
   "name": "python3"
  },
  "language_info": {
   "codemirror_mode": {
    "name": "ipython",
    "version": 3
   },
   "file_extension": ".py",
   "mimetype": "text/x-python",
   "name": "python",
   "nbconvert_exporter": "python",
   "pygments_lexer": "ipython3",
   "version": "3.9.19"
  }
 },
 "nbformat_minor": 2,
 "nbformat": 4,
 "cells": [
  {
   "cell_type": "code",
   "execution_count": null,
   "id": "4039104e-54fc-411e-972e-0f5a2d884595",
   "metadata": {
    "codeCollapsed": false,
    "collapsed": false,
    "language": "python",
    "name": "cell2",
    "resultHeight": 0
   },
   "outputs": [],
   "source": "# Snowflake python API\nfrom snowflake.core import Root\n\n# Snowpark\nfrom snowflake.snowpark.context import get_active_session\nsession = get_active_session()\nenv = 'DEV'\nsession.use_schema('BUILD_PYTHON_DE.DATA')"
  },
  {
   "cell_type": "code",
   "execution_count": null,
   "id": "2a091f1b-505f-4b61-9088-e7fd08e16f83",
   "metadata": {
    "codeCollapsed": false,
    "collapsed": false,
    "language": "python",
    "name": "cell6",
    "resultHeight": 161
   },
   "outputs": [],
   "source": "from snowflake.core.task.dagv1 import DAGOperation, DAG, DAGTask\nfrom datetime import timedelta\n\n# DAG API 를 사용해서 task 생성\nwarehouse_name = \"DEMO_WH\"\ndag_name = \"DEMO_DAG\"\n\napi_root = Root(session)\nschema = api_root.databases['BUILD_PYTHON_DE'].schemas['DATA']\ndag_op = DAGOperation(schema)\n\n# DAG 정의\nwith DAG(dag_name, schedule=timedelta(days=1), warehouse=warehouse_name) as dag:\n    dag_task1 = DAGTask(\"stats_customer\", definition=f'''EXECUTE NOTEBOOK BUILD_PYTHON_DE.DATA.\"{env}_STATS_CUSTOMER\"()''', warehouse=warehouse_name)\n    dag_task2 = DAGTask(\"stats_sales\", definition=f'''EXECUTE NOTEBOOK BUILD_PYTHON_DE.DATA.\"{env}_STATS_SALES\"()''', warehouse=warehouse_name)\n\n    # tasks 간 dependencies 정의\n    dag_task1 >> dag_task2 # dag_task1 실행 후 dag_task2 실행\n\n# Snowflake 에 DAG 생성\ndag_op.deploy(dag, mode=\"orreplace\")"
  },
  {
   "cell_type": "code",
   "execution_count": null,
   "id": "be5d37e2-e990-4e71-b762-41a64845955f",
   "metadata": {
    "codeCollapsed": false,
    "collapsed": false,
    "language": "python",
    "name": "cell8",
    "resultHeight": 158
   },
   "outputs": [],
   "source": "dagiter = dag_op.iter_dags(like='demo_dag%')\nfor dag_name in dagiter:\n    print(dag_name)\n\ndag_op.run(dag)"
  }
 ]
}