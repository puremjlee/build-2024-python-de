{
 "metadata": {
  "kernelspec": {
   "display_name": "snowpark_pandas",
   "language": "python",
   "name": "python3"
  },
  "language_info": {
   "codemirror_mode": {
    "name": "ipython",
    "version": 3
   },
   "file_extension": ".py",
   "mimetype": "text/x-python",
   "name": "python",
   "nbconvert_exporter": "python",
   "pygments_lexer": "ipython3",
   "version": "3.9.19"
  }
 },
 "nbformat_minor": 2,
 "nbformat": 4,
 "cells": [
  {
   "cell_type": "code",
   "execution_count": null,
   "id": "4039104e-54fc-411e-972e-0f5a2d884595",
   "metadata": {
    "codeCollapsed": false,
    "collapsed": false,
    "language": "python",
    "name": "cell2",
    "resultHeight": 0
   },
   "outputs": [],
   "source": [
    "import streamlit as st\n",
    "import matplotlib.pyplot as plt\n",
    "import seaborn as sns"
   ]
  },
  {
   "cell_type": "code",
   "execution_count": null,
   "id": "d66adbc4-2b92-4d7d-86a5-217ee78e061f",
   "metadata": {
    "codeCollapsed": false,
    "collapsed": false,
    "language": "python",
    "name": "cell3",
    "resultHeight": 0
   },
   "outputs": [],
   "source": "# Snowpark Pandas API\nimport modin.pandas as spd\n# Snowpark pandas modin plugin import\nimport snowflake.snowpark.modin.plugin\n\nfrom snowflake.snowpark.context import get_active_session\n\n# snowpark session 생성\nsession = get_active_session()"
  },
  {
   "cell_type": "code",
   "execution_count": null,
   "id": "2a091f1b-505f-4b61-9088-e7fd08e16f83",
   "metadata": {
    "codeCollapsed": false,
    "collapsed": false,
    "language": "python",
    "name": "cell6",
    "resultHeight": 0
   },
   "outputs": [],
   "source": "# customer 테이블을 Snowpark Pandas Dataframe 으로 읽어오기\nsession.use_schema('build_python_de.data')\n\ncustomer_df = spd.read_snowflake('snowflake_sample_data.tpch_sf1.customer')\n\nst.dataframe(customer_df.head())"
  },
  {
   "cell_type": "code",
   "execution_count": null,
   "id": "be5d37e2-e990-4e71-b762-41a64845955f",
   "metadata": {
    "codeCollapsed": false,
    "collapsed": false,
    "language": "python",
    "name": "cell8",
    "resultHeight": 0
   },
   "outputs": [],
   "source": "# dataframe 정보\ncustomer_df.info()\nprint(f\"DataFrame shape: {customer_df.shape}\")"
  },
  {
   "cell_type": "code",
   "id": "cdd01075-e762-4a4a-8357-12ea5eb2a06b",
   "metadata": {
    "language": "python",
    "name": "cell4",
    "resultHeight": 0
   },
   "outputs": [],
   "source": "customer_df = customer_df['C_CUSTKEY', 'C_NAME', 'C_MKTSEGMENT']\n\n# order 테이블 읽기\nspd_order = spd.read_snowflake('snowflake_sample_data.tpch_sf1.orders')\n\n# dataframes 조인\nspd_ord_cust = customer_df.merge(spd_order,\n                                 left_on='C_CUSTKEY',\n                                 right_on='O_CUSTKEY',\n                                 how='inner')\n\n# Customer key 기준으로 Aggregations \ncolumn_agg = {\n                'O_ORDERKEY':['count'], \n                'O_TOTALPRICE': ['sum' ,'mean']\n             }\n\n# Aggregation 적용\nspd_agg = spd_ord_cust.groupby(by=['C_CUSTKEY','C_NAME'], \n                                   as_index=False).agg(column_agg)\n\n# 컬럼 remanme\nspd_agg.columns = ['C_CUSTKEY', 'C_NAME', 'TOT_ORD',\n                   'TOT_ORDER_AMOUNT','AVG_ORDER_AMOUNT']\n\n# 결과를 customer_profile 테이블로 저장\nspd_agg.to_snowflake(name='customer_profile',\n                     if_exists=\"replace\",\n                     index=False)\n\nst.dataframe(spd_agg.head())\n",
   "execution_count": null
  },
  {
   "cell_type": "code",
   "execution_count": null,
   "id": "7aacead4-dba7-4b35-ad0b-23dc173aada2",
   "metadata": {
    "codeCollapsed": false,
    "collapsed": false,
    "language": "sql",
    "name": "cell35",
    "resultHeight": 0
   },
   "outputs": [],
   "source": "SELECT * FROM customer_profile LIMIT 5;"
  },
  {
   "cell_type": "markdown",
   "id": "61e95e5f-aed0-43cc-92aa-a976e652c5c1",
   "metadata": {
    "collapsed": false,
    "name": "cell36",
    "resultHeight": 102
   },
   "source": [
    "## Visualize data distribution\n",
    "\n",
    "Plot histogram distribution for different columns in customer profile"
   ]
  },
  {
   "cell_type": "code",
   "execution_count": null,
   "id": "c467d0df-50d0-4dec-8149-d14c8c897d3c",
   "metadata": {
    "codeCollapsed": false,
    "collapsed": false,
    "language": "python",
    "name": "cell37",
    "resultHeight": 0
   },
   "outputs": [],
   "source": "pd_profile = spd_agg.to_pandas()\n\nfig, axes = plt.subplots(1,4,figsize=(15,3))\n\ncolnames = ['TOT_ORD', 'TOT_ORDER_AMOUNT', 'AVG_ORDER_AMOUNT']\n\nfor col, ax in zip(colnames, axes.flatten()):\n    ax.set_title(col)\n    sns.histplot(pd_profile, x=col , ax=ax, kde=True, stat=\"density\", kde_kws=dict(cut=3), alpha=.4, edgecolor=(1, 1, 1, .4))\nfig.tight_layout() \n\n\n"
  }
 ]
}